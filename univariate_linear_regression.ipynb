{
  "nbformat": 4,
  "nbformat_minor": 0,
  "metadata": {
    "colab": {
      "name": "univariate_linear_regression.ipynb",
      "provenance": [],
      "collapsed_sections": [],
      "authorship_tag": "ABX9TyOHA9XeO5olcHH/FltENN+p",
      "include_colab_link": true
    },
    "kernelspec": {
      "name": "python3",
      "display_name": "Python 3"
    }
  },
  "cells": [
    {
      "cell_type": "markdown",
      "metadata": {
        "id": "view-in-github",
        "colab_type": "text"
      },
      "source": [
        "<a href=\"https://colab.research.google.com/github/mayu-code/-Apply-K-means-Agglomerative-DBSCAN-clustering-algorithms-on-Donors-Choose-dataset/blob/master/univariate_linear_regression.ipynb\" target=\"_parent\"><img src=\"https://colab.research.google.com/assets/colab-badge.svg\" alt=\"Open In Colab\"/></a>"
      ]
    },
    {
      "cell_type": "code",
      "metadata": {
        "id": "aiujL7pZVvMd",
        "colab_type": "code",
        "colab": {}
      },
      "source": [
        "import pandas as pd\n",
        "import numpy as np\n",
        "import matplotlib.pyplot as plt"
      ],
      "execution_count": 0,
      "outputs": []
    },
    {
      "cell_type": "code",
      "metadata": {
        "id": "xgvRMzu-VvPC",
        "colab_type": "code",
        "colab": {}
      },
      "source": [
        "data = pd.read_csv('sample_data/california_housing_train.csv')"
      ],
      "execution_count": 0,
      "outputs": []
    },
    {
      "cell_type": "code",
      "metadata": {
        "id": "odEURgxlVvSL",
        "colab_type": "code",
        "colab": {
          "base_uri": "https://localhost:8080/",
          "height": 218
        },
        "outputId": "27773509-baf8-4c30-cfbf-972b0219895f"
      },
      "source": [
        "# data.columns\n",
        "data['households']"
      ],
      "execution_count": 48,
      "outputs": [
        {
          "output_type": "execute_result",
          "data": {
            "text/plain": [
              "0        472.0\n",
              "1        463.0\n",
              "2        117.0\n",
              "3        226.0\n",
              "4        262.0\n",
              "         ...  \n",
              "16995    369.0\n",
              "16996    465.0\n",
              "16997    456.0\n",
              "16998    478.0\n",
              "16999    270.0\n",
              "Name: households, Length: 17000, dtype: float64"
            ]
          },
          "metadata": {
            "tags": []
          },
          "execution_count": 48
        }
      ]
    },
    {
      "cell_type": "code",
      "metadata": {
        "id": "FFoVsuh9V29Q",
        "colab_type": "code",
        "colab": {}
      },
      "source": [
        "y_a = data['median_house_value']\n",
        "x = data['total_bedrooms']"
      ],
      "execution_count": 0,
      "outputs": []
    },
    {
      "cell_type": "code",
      "metadata": {
        "id": "d9beaTMzV-sx",
        "colab_type": "code",
        "colab": {}
      },
      "source": [
        "#Training is starting from here, tresspassers will be shot at sight"
      ],
      "execution_count": 0,
      "outputs": []
    },
    {
      "cell_type": "code",
      "metadata": {
        "id": "FV71XGb1V3A4",
        "colab_type": "code",
        "colab": {}
      },
      "source": [
        "def line(m,x,c):\n",
        "  return m*x + c\n",
        "def error(y_p,y_a):\n",
        "  return np.mean((y_p - y_a)**2)\n",
        "def derivative_m(y_p,y_a,x):\n",
        "  return 2*np.mean((y_p - y_a)*x)\n",
        "def derivative_c(y_p,y_a):\n",
        "  return 2*np.mean((y_p - y_a))"
      ],
      "execution_count": 0,
      "outputs": []
    },
    {
      "cell_type": "code",
      "metadata": {
        "id": "MM7i-GOxV8x3",
        "colab_type": "code",
        "colab": {
          "base_uri": "https://localhost:8080/",
          "height": 1000
        },
        "outputId": "14761db9-a9f2-4c53-810d-7f29897753e1"
      },
      "source": [
        "m = np.random.rand()\n",
        "c = np.random.rand()\n",
        "y_p = line(m,x,c)\n",
        "cost = []\n",
        "lr = 0.00000002\n",
        "iters = 150\n",
        "for i in range(0,iters):\n",
        "  m = m - lr * derivative_m(y_p,y_a,x)\n",
        "  c = c - lr * derivative_c(y_p,y_a)\n",
        "  y_p = line(m,x,c)\n",
        "  print(\"Error: \",error(y_p,y_a))\n",
        "  cost.append(error(y_p,y_a))\n",
        "plt.plot(cost)"
      ],
      "execution_count": 51,
      "outputs": [
        {
          "output_type": "stream",
          "text": [
            "Error:  55306008995.15158\n",
            "Error:  54316571016.353905\n",
            "Error:  53363878686.94728\n",
            "Error:  52446567350.01636\n",
            "Error:  51563323029.16285\n",
            "Error:  50712880546.335815\n",
            "Error:  49894021709.56297\n",
            "Error:  49105573567.986206\n",
            "Error:  48346406731.70016\n",
            "Error:  47615433753.98821\n",
            "Error:  46911607573.642715\n",
            "Error:  46233920015.12708\n",
            "Error:  45581400344.44737\n",
            "Error:  44953113878.6471\n",
            "Error:  44348160646.95013\n",
            "Error:  43765674101.62104\n",
            "Error:  43204819876.70265\n",
            "Error:  42664794592.85291\n",
            "Error:  42144824706.56548\n",
            "Error:  41644165402.12958\n",
            "Error:  41162099524.73953\n",
            "Error:  40697936553.2254\n",
            "Error:  40251011610.93644\n",
            "Error:  39820684513.355484\n",
            "Error:  39406338851.08732\n",
            "Error:  39007381106.89677\n",
            "Error:  38623239805.54299\n",
            "Error:  38253364695.18722\n",
            "Error:  37897225959.1974\n",
            "Error:  37554313457.22742\n",
            "Error:  37224135994.48319\n",
            "Error:  36906220618.12146\n",
            "Error:  36600111939.783745\n",
            "Error:  36305371483.285545\n",
            "Error:  36021577056.53673\n",
            "Error:  35748322146.78161\n",
            "Error:  35485215338.30182\n",
            "Error:  35231879751.74397\n",
            "Error:  34987952504.26938\n",
            "Error:  34753084189.75201\n",
            "Error:  34526938378.28257\n",
            "Error:  34309191134.257847\n",
            "Error:  34099530552.368294\n",
            "Error:  33897656310.81811\n",
            "Error:  33703279241.138546\n",
            "Error:  33516120913.974854\n",
            "Error:  33335913240.259\n",
            "Error:  33162398087.19354\n",
            "Error:  32995326908.494743\n",
            "Error:  32834460388.370678\n",
            "Error:  32679568098.719906\n",
            "Error:  32530428169.06051\n",
            "Error:  32386826968.719364\n",
            "Error:  32248558800.820114\n",
            "Error:  32115425607.641655\n",
            "Error:  31987236686.913387\n",
            "Error:  31863808418.65071\n",
            "Error:  31744964002.132267\n",
            "Error:  31630533202.647736\n",
            "Error:  31520352107.649403\n",
            "Error:  31414262891.960323\n",
            "Error:  31312113591.7029\n",
            "Error:  31213757886.619522\n",
            "Error:  31119054890.484493\n",
            "Error:  31027868949.29172\n",
            "Error:  30940069446.943436\n",
            "Error:  30855530618.1514\n",
            "Error:  30774131368.28778\n",
            "Error:  30695755099.92877\n",
            "Error:  30620289545.83402\n",
            "Error:  30547626608.135998\n",
            "Error:  30477662203.496662\n",
            "Error:  30410296114.017\n",
            "Error:  30345431843.68117\n",
            "Error:  30282976480.1346\n",
            "Error:  30222840561.594612\n",
            "Error:  30164937948.70315\n",
            "Error:  30109185701.137302\n",
            "Error:  30055503958.80638\n",
            "Error:  30003815827.45667\n",
            "Error:  29954047268.526848\n",
            "Error:  29906126993.093582\n",
            "Error:  29859986359.75583\n",
            "Error:  29815559276.3116\n",
            "Error:  29772782105.085434\n",
            "Error:  29731593571.772324\n",
            "Error:  29691934677.66807\n",
            "Error:  29653748615.156578\n",
            "Error:  29616980686.339157\n",
            "Error:  29581578224.683086\n",
            "Error:  29547490519.580563\n",
            "Error:  29514668743.71063\n",
            "Error:  29483065883.09718\n",
            "Error:  29452636669.765015\n",
            "Error:  29423337516.898533\n",
            "Error:  29395126456.403606\n",
            "Error:  29367963078.79562\n",
            "Error:  29341808475.31326\n",
            "Error:  29316625182.185932\n",
            "Error:  29292377126.96884\n",
            "Error:  29269029576.873314\n",
            "Error:  29246549089.014244\n",
            "Error:  29224903462.50486\n",
            "Error:  29204061692.33336\n",
            "Error:  29183993924.948513\n",
            "Error:  29164671415.498493\n",
            "Error:  29146066486.65485\n",
            "Error:  29128152488.96833\n",
            "Error:  29110903762.69399\n",
            "Error:  29094295601.03677\n",
            "Error:  29078304214.760353\n",
            "Error:  29062906698.11122\n",
            "Error:  29048080996.00762\n",
            "Error:  29033805872.448364\n",
            "Error:  29020060880.09179\n",
            "Error:  29006826330.969803\n",
            "Error:  28994083268.282562\n",
            "Error:  28981813439.247166\n",
            "Error:  28969999268.95152\n",
            "Error:  28958623835.17857\n",
            "Error:  28947670844.166775\n",
            "Error:  28937124607.272125\n",
            "Error:  28926970018.49327\n",
            "Error:  28917192532.83485\n",
            "Error:  28907778145.471943\n",
            "Error:  28898713371.68928\n",
            "Error:  28889985227.5672\n",
            "Error:  28881581211.380123\n",
            "Error:  28873489285.69271\n",
            "Error:  28865697860.111935\n",
            "Error:  28858195774.69068\n",
            "Error:  28850972283.937317\n",
            "Error:  28844017041.425957\n",
            "Error:  28837320084.97514\n",
            "Error:  28830871822.378895\n",
            "Error:  28824663017.66481\n",
            "Error:  28818684777.865753\n",
            "Error:  28812928540.280884\n",
            "Error:  28807386060.210117\n",
            "Error:  28802049399.144516\n",
            "Error:  28796910913.394516\n",
            "Error:  28791963243.141533\n",
            "Error:  28787199301.89542\n",
            "Error:  28782612266.343395\n",
            "Error:  28778195566.57634\n",
            "Error:  28773942876.6776\n",
            "Error:  28769848105.66231\n",
            "Error:  28765905388.75146\n",
            "Error:  28762109078.973095\n",
            "Error:  28758453739.070415\n"
          ],
          "name": "stdout"
        },
        {
          "output_type": "execute_result",
          "data": {
            "text/plain": [
              "[<matplotlib.lines.Line2D at 0x7f3415cf39e8>]"
            ]
          },
          "metadata": {
            "tags": []
          },
          "execution_count": 51
        },
        {
          "output_type": "display_data",
          "data": {
            "image/png": "[encoded data removed]",
            "text/plain": [
              "<Figure size 432x288 with 1 Axes>"
            ]
          },
          "metadata": {
            "tags": []
          }
        }
      ]
    },
    {
      "cell_type": "code",
      "metadata": {
        "id": "BF-MXzoSWJn9",
        "colab_type": "code",
        "colab": {
          "base_uri": "https://localhost:8080/",
          "height": 282
        },
        "outputId": "ddf65348-10db-4f74-b0dc-dfd855292a2b"
      },
      "source": [
        "plt.scatter(x,y_a)"
      ],
      "execution_count": 52,
      "outputs": [
        {
          "output_type": "execute_result",
          "data": {
            "text/plain": [
              "<matplotlib.collections.PathCollection at 0x7f3415cd8710>"
            ]
          },
          "metadata": {
            "tags": []
          },
          "execution_count": 52
        },
        {
          "output_type": "display_data",
          "data": {
            "image/png": "[encoded data removed]",
            "text/plain": [
              "<Figure size 432x288 with 1 Axes>"
            ]
          },
          "metadata": {
            "tags": []
          }
        }
      ]
    }
  ]
}